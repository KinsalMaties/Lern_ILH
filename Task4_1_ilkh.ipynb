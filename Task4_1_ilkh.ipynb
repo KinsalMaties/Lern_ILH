{
  "nbformat": 4,
  "nbformat_minor": 0,
  "metadata": {
    "colab": {
      "provenance": []
    },
    "kernelspec": {
      "name": "python3",
      "display_name": "Python 3"
    },
    "language_info": {
      "name": "python"
    }
  },
  "cells": [
    {
      "cell_type": "code",
      "source": [
        "import pandas as pd\n",
        "import numpy as np\n",
        "\n",
        "# Создаем DataFrame из предоставленных данных\n",
        "data = {\n",
        "    'id': [1, 2, 3, 4, 5, 6, 7, 8, 9, 10],\n",
        "    'X': [26, 40, 54, 53, 33, 72, 70, 87, 31, 76],\n",
        "    'Y': [69, 27, 54, 51, 32, 39, 80, 94, 31, 61],\n",
        "    'Class': [0, 1, 1, 1, 0, 0, 0, 1, 0, 1]\n",
        "}\n",
        "df = pd.DataFrame(data)\n",
        "\n",
        "# Функция для вычисления евклидова расстояния между двумя точками\n",
        "def euclidean_distance(x1, y1, x2, y2):\n",
        "    return np.sqrt((x1 - x2)**2 + (y1 - y2)**2)\n",
        "\n",
        "# Функция для вычисления расстояния Манхэттена между двумя точками\n",
        "def manhattan_distance(x1, y1, x2, y2):\n",
        "    return abs(x1 - x2) + abs(y1 - y2)\n",
        "\n",
        "# Координаты нового объекта\n",
        "new_x = 58\n",
        "new_y = 63\n",
        "\n",
        "# Вычисляем расстояния от новой точки до всех остальных точек в наборе данных\n",
        "df['Euclidean_Distance'] = euclidean_distance(new_x, new_y, df['X'], df['Y'])\n",
        "df['Manhattan_Distance'] = manhattan_distance(new_x, new_y, df['X'], df['Y'])\n",
        "\n",
        "# Находим ближайшего соседа и три ближайших соседей для каждой метрики\n",
        "nearest_neighbor_euclidean = df.loc[df['Euclidean_Distance'].idxmin()]\n",
        "three_nearest_ids_euclidean = df.nsmallest(3, 'Euclidean_Distance')['id'].tolist()\n",
        "class_for_new_object_euclidean = df.nsmallest(3, 'Euclidean_Distance')['Class'].mode()[0]\n",
        "\n",
        "nearest_neighbor_manhattan = df.loc[df['Manhattan_Distance'].idxmin()]\n",
        "three_nearest_ids_manhattan = df.nsmallest(3, 'Manhattan_Distance')['id'].tolist()\n",
        "class_for_new_object_manhattan = df.nsmallest(3, 'Manhattan_Distance')['Class'].mode()[0]\n",
        "\n",
        "# Выводим результаты\n",
        "print(\"1. Distance from the new object to the nearest neighbor using the Euclidean metric:\", round(nearest_neighbor_euclidean['Euclidean_Distance'], 3))\n",
        "print(\"2. IDs of the three nearest points to the new object for the Euclidean metric:\", ', '.join(map(str, three_nearest_ids_euclidean)))\n",
        "print(\"3. Class for the new object with coordinates (20, 48) for k=3 using the Euclidean metric:\", class_for_new_object_euclidean)\n",
        "print(\"4. Distance from the new object to the nearest neighbor using the Manhattan distance:\", round(nearest_neighbor_manhattan['Manhattan_Distance'], 3))\n",
        "print(\"5. IDs of the three nearest points to the new object for the Manhattan distance:\", ', '.join(map(str, three_nearest_ids_manhattan)))\n",
        "print(\"6. Class for the new object with coordinates (20, 48) for k=3 using the Manhattan distance:\", class_for_new_object_manhattan)\n"
      ],
      "metadata": {
        "colab": {
          "base_uri": "https://localhost:8080/"
        },
        "id": "R8nqkeFTd8Fl",
        "outputId": "42e40a16-564d-4de8-cfd8-7abe7b1c76d5"
      },
      "execution_count": 4,
      "outputs": [
        {
          "output_type": "stream",
          "name": "stdout",
          "text": [
            "1. Distance from the new object to the nearest neighbor using the Euclidean metric: 9.849\n",
            "2. IDs of the three nearest points to the new object for the Euclidean metric: 3, 4, 10\n",
            "3. Class for the new object with coordinates (20, 48) for k=3 using the Euclidean metric: 1\n",
            "4. Distance from the new object to the nearest neighbor using the Manhattan distance: 13.0\n",
            "5. IDs of the three nearest points to the new object for the Manhattan distance: 3, 4, 10\n",
            "6. Class for the new object with coordinates (20, 48) for k=3 using the Manhattan distance: 1\n"
          ]
        }
      ]
    },
    {
      "cell_type": "code",
      "source": [],
      "metadata": {
        "id": "O0jhUMLpfJNz"
      },
      "execution_count": null,
      "outputs": []
    }
  ]
}
