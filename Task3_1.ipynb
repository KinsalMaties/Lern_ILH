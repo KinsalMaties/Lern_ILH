{
  "nbformat": 4,
  "nbformat_minor": 0,
  "metadata": {
    "colab": {
      "provenance": [],
      "authorship_tag": "ABX9TyNcXe+RFJG6rsp7HkVuiTW7",
      "include_colab_link": true
    },
    "kernelspec": {
      "name": "python3",
      "display_name": "Python 3"
    },
    "language_info": {
      "name": "python"
    }
  },
  "cells": [
    {
      "cell_type": "markdown",
      "metadata": {
        "id": "view-in-github",
        "colab_type": "text"
      },
      "source": [
        "<a href=\"https://colab.research.google.com/github/KinsalMaties/Lern_ILH/blob/ilkhamiya/Task3_1.ipynb\" target=\"_parent\"><img src=\"https://colab.research.google.com/assets/colab-badge.svg\" alt=\"Open In Colab\"/></a>"
      ]
    },
    {
      "cell_type": "markdown",
      "source": [
        "Задание 3_1"
      ],
      "metadata": {
        "id": "nbVkDaRSiQyf"
      }
    },
    {
      "cell_type": "code",
      "execution_count": 1,
      "metadata": {
        "id": "R7mZlY1viOsy"
      },
      "outputs": [],
      "source": [
        "import pandas as pd"
      ]
    },
    {
      "cell_type": "code",
      "source": [
        "# Создадим DataFrame из данных\n",
        "data = {\n",
        "    'Number of people in a line': [12, 14, 24, 13, 15, 5, 16, 20, 3, 8],\n",
        "    'Time spent in the store (min)': [20, 41, 62, 23, 28, 14, 33, 36, 9, 20]\n",
        "}\n",
        "df = pd.DataFrame(data)"
      ],
      "metadata": {
        "id": "WVI-d89TiTFP"
      },
      "execution_count": 2,
      "outputs": []
    },
    {
      "cell_type": "code",
      "source": [
        "# Найдем выборочное среднее для каждой переменной\n",
        "X_mean = df['Number of people in a line'].mean()\n",
        "Y_mean = df['Time spent in the store (min)'].mean()\n",
        "\n",
        "print(\"Выборочное среднее X:\", X_mean)\n",
        "print(\"Выборочное среднее Y:\", Y_mean)"
      ],
      "metadata": {
        "colab": {
          "base_uri": "https://localhost:8080/"
        },
        "id": "OTfrO9kmikDv",
        "outputId": "5916097f-4db8-4211-dd4d-f448c1e5ca5f"
      },
      "execution_count": 3,
      "outputs": [
        {
          "output_type": "stream",
          "name": "stdout",
          "text": [
            "Выборочное среднее X: 13.0\n",
            "Выборочное среднее Y: 28.6\n"
          ]
        }
      ]
    },
    {
      "cell_type": "markdown",
      "source": [
        "коэффициент наклона (q1) и коэффициент смещения (q0) для линейной регрессии:"
      ],
      "metadata": {
        "id": "y8ZbjWAsis1m"
      }
    },
    {
      "cell_type": "code",
      "source": [
        "# Рассчитаем ковариацию и дисперсию для оценки коэффициентов\n",
        "covariance = ((df['Number of people in a line'] - X_mean) * (df['Time spent in the store (min)'] - Y_mean)).sum()\n",
        "variance = ((df['Number of people in a line'] - X_mean) ** 2).sum()\n",
        "\n",
        "# Рассчитаем коэффициент наклона\n",
        "q1 = covariance / variance\n",
        "\n",
        "# Рассчитаем коэффициент смещения\n",
        "q0 = Y_mean - q1 * X_mean\n",
        "\n",
        "print(\"Коэффициент наклона (q1):\", q1)\n",
        "print(\"Коэффициент смещения (q0):\", q0)\n"
      ],
      "metadata": {
        "colab": {
          "base_uri": "https://localhost:8080/"
        },
        "id": "Cv9om1AIilEf",
        "outputId": "772e1a2c-91ba-431e-a1f7-4d5204ddf64a"
      },
      "execution_count": 4,
      "outputs": [
        {
          "output_type": "stream",
          "name": "stdout",
          "text": [
            "Коэффициент наклона (q1): 2.160427807486631\n",
            "Коэффициент смещения (q0): 0.5144385026737943\n"
          ]
        }
      ]
    },
    {
      "cell_type": "markdown",
      "source": [
        "Оценим точность модели, рассчитав коэффициент детерминации (R-squared):"
      ],
      "metadata": {
        "id": "Pnsn4boyi2Lm"
      }
    },
    {
      "cell_type": "code",
      "source": [
        "# Рассчитаем сумму квадратов отклонений\n",
        "SST = ((df['Time spent in the store (min)'] - Y_mean) ** 2).sum()\n",
        "\n",
        "# Рассчитаем сумму квадратов остатков\n",
        "SSE = ((df['Time spent in the store (min)'] - (q0 + q1 * df['Number of people in a line'])) ** 2).sum()\n",
        "\n",
        "# Рассчитаем коэффициент детерминации (R-squared)\n",
        "R_squared = 1 - (SSE / SST)\n",
        "\n",
        "print(\"Коэффициент детерминации (R-squared):\", R_squared)"
      ],
      "metadata": {
        "colab": {
          "base_uri": "https://localhost:8080/"
        },
        "id": "2MXTdoQAiuc-",
        "outputId": "bcfcb8d2-25df-47b0-d7ec-c1f4f7b3f6b1"
      },
      "execution_count": 5,
      "outputs": [
        {
          "output_type": "stream",
          "name": "stdout",
          "text": [
            "Коэффициент детерминации (R-squared): 0.8232530034187879\n"
          ]
        }
      ]
    },
    {
      "cell_type": "code",
      "source": [],
      "metadata": {
        "id": "okIizQA7i3s9"
      },
      "execution_count": null,
      "outputs": []
    }
  ]
}