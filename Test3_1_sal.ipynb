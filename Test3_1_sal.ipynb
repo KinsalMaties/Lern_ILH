{
  "nbformat": 4,
  "nbformat_minor": 0,
  "metadata": {
    "colab": {
      "provenance": [],
      "authorship_tag": "ABX9TyO99r4ViJVqho+Qb78EV3Uu",
      "include_colab_link": true
    },
    "kernelspec": {
      "name": "python3",
      "display_name": "Python 3"
    },
    "language_info": {
      "name": "python"
    }
  },
  "cells": [
    {
      "cell_type": "markdown",
      "metadata": {
        "id": "view-in-github",
        "colab_type": "text"
      },
      "source": [
        "<a href=\"https://colab.research.google.com/github/KinsalMaties/Lern_ILH/blob/main/Test3_1_sal.ipynb\" target=\"_parent\"><img src=\"https://colab.research.google.com/assets/colab-badge.svg\" alt=\"Open In Colab\"/></a>"
      ]
    },
    {
      "cell_type": "markdown",
      "source": [
        "*You have the observation results of time that a person spent in a line in relation to the number of people in the line.*"
      ],
      "metadata": {
        "id": "AIWc7leyiEXp"
      }
    },
    {
      "cell_type": "code",
      "execution_count": 1,
      "metadata": {
        "id": "92ZWO0QGhRS4"
      },
      "outputs": [],
      "source": [
        "import pandas as pd"
      ]
    },
    {
      "cell_type": "code",
      "source": [
        "# Создадим DataFrame из данных\n",
        "data = {\n",
        "    'Number of people in a line': [4, 22, 20, 7, 13, 12, 17, 3, 1, 21],\n",
        "    'Time spent in the store (min)': [10, 41, 36, 17, 31, 35, 47, 10, 5, 41]\n",
        "}\n",
        "df = pd.DataFrame(data)"
      ],
      "metadata": {
        "id": "LltcB4yGhTh4"
      },
      "execution_count": 2,
      "outputs": []
    },
    {
      "cell_type": "code",
      "source": [
        "# Найдем выборочное среднее для каждой переменной\n",
        "X_mean = df['Number of people in a line'].mean()\n",
        "Y_mean = df['Time spent in the store (min)'].mean()\n",
        "\n",
        "print(\"Выборочное среднее X:\", X_mean)\n",
        "print(\"Выборочное среднее Y:\", Y_mean)"
      ],
      "metadata": {
        "colab": {
          "base_uri": "https://localhost:8080/"
        },
        "id": "JCjOPkoThi1Y",
        "outputId": "656a73db-fb84-49d8-f92f-e5d176efb37f"
      },
      "execution_count": 3,
      "outputs": [
        {
          "output_type": "stream",
          "name": "stdout",
          "text": [
            "Выборочное среднее X: 12.0\n",
            "Выборочное среднее Y: 27.3\n"
          ]
        }
      ]
    },
    {
      "cell_type": "markdown",
      "source": [
        "ассчитаем коэффициент наклона (q1) и коэффициент смещения (q0) для линейной регрессии:"
      ],
      "metadata": {
        "id": "b7-LTPbShsMP"
      }
    },
    {
      "cell_type": "code",
      "source": [
        "# Рассчитаем ковариацию и дисперсию для оценки коэффициентов\n",
        "covariance = ((df['Number of people in a line'] - X_mean) * (df['Time spent in the store (min)'] - Y_mean)).sum()\n",
        "variance = ((df['Number of people in a line'] - X_mean) ** 2).sum()\n",
        "\n",
        "# Рассчитаем коэффициент наклона\n",
        "q1 = covariance / variance\n",
        "\n",
        "# Рассчитаем коэффициент смещения\n",
        "q0 = Y_mean - q1 * X_mean\n",
        "\n",
        "print(\"Коэффициент наклона (q1):\", q1)\n",
        "print(\"Коэффициент смещения (q0):\", q0)\n"
      ],
      "metadata": {
        "colab": {
          "base_uri": "https://localhost:8080/"
        },
        "id": "IZBs7wXSholH",
        "outputId": "7f33d376-73e5-4839-89fb-857fa7c2c1d4"
      },
      "execution_count": 4,
      "outputs": [
        {
          "output_type": "stream",
          "name": "stdout",
          "text": [
            "Коэффициент наклона (q1): 1.8202846975088969\n",
            "Коэффициент смещения (q0): 5.456583629893238\n"
          ]
        }
      ]
    },
    {
      "cell_type": "markdown",
      "source": [
        "Оценим точность модели, рассчитав коэффициент детерминации (R-squared):"
      ],
      "metadata": {
        "id": "2lkdqrbCh4c3"
      }
    },
    {
      "cell_type": "code",
      "source": [
        "# Рассчитаем сумму квадратов отклонений\n",
        "SST = ((df['Time spent in the store (min)'] - Y_mean) ** 2).sum()\n",
        "\n",
        "# Рассчитаем сумму квадратов остатков\n",
        "SSE = ((df['Time spent in the store (min)'] - (q0 + q1 * df['Number of people in a line'])) ** 2).sum()\n",
        "\n",
        "# Рассчитаем коэффициент детерминации (R-squared)\n",
        "R_squared = 1 - (SSE / SST)\n",
        "\n",
        "print(\"Коэффициент детерминации (R-squared):\", R_squared)\n"
      ],
      "metadata": {
        "colab": {
          "base_uri": "https://localhost:8080/"
        },
        "id": "vWOakAY9ht6_",
        "outputId": "784952e2-2529-4b51-c2d0-7539c3eef6f7"
      },
      "execution_count": 5,
      "outputs": [
        {
          "output_type": "stream",
          "name": "stdout",
          "text": [
            "Коэффициент детерминации (R-squared): 0.8808245804605276\n"
          ]
        }
      ]
    },
    {
      "cell_type": "code",
      "source": [],
      "metadata": {
        "id": "_k0MjrR8h57-"
      },
      "execution_count": null,
      "outputs": []
    }
  ]
}