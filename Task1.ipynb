{
  "nbformat": 4,
  "nbformat_minor": 0,
  "metadata": {
    "colab": {
      "provenance": [],
      "authorship_tag": "ABX9TyMXMqGAdpqVQ45yueanB/zP",
      "include_colab_link": true
    },
    "kernelspec": {
      "name": "python3",
      "display_name": "Python 3"
    },
    "language_info": {
      "name": "python"
    }
  },
  "cells": [
    {
      "cell_type": "markdown",
      "metadata": {
        "id": "view-in-github",
        "colab_type": "text"
      },
      "source": [
        "<a href=\"https://colab.research.google.com/github/KinsalMaties/Lern_ILH/blob/main/Task1.ipynb\" target=\"_parent\"><img src=\"https://colab.research.google.com/assets/colab-badge.svg\" alt=\"Open In Colab\"/></a>"
      ]
    },
    {
      "cell_type": "markdown",
      "source": [
        "ПЕРВОЕ ЗАДАНИЕ"
      ],
      "metadata": {
        "id": "gypFPvS6BIAS"
      }
    },
    {
      "cell_type": "code",
      "source": [
        "import pandas as pd"
      ],
      "metadata": {
        "id": "03SoqLOvHJzs"
      },
      "execution_count": 1,
      "outputs": []
    },
    {
      "cell_type": "code",
      "source": [
        "# Загрузка данных из файла\n",
        "data = pd.read_csv(\"salary_and_population.csv\")"
      ],
      "metadata": {
        "id": "Y78faIZhHP5T"
      },
      "execution_count": 2,
      "outputs": []
    },
    {
      "cell_type": "code",
      "source": [
        "# Удаление строк, соответствующих ненужным регионам\n",
        "unwanted_regions = ['Чеченская Республика', 'Белгородская область', 'Волгоградская область', 'Тверская область', 'Ростовская область']\n",
        "data = data[~data['Region_RU'].isin(unwanted_regions)]\n",
        "\n"
      ],
      "metadata": {
        "id": "SPSIwcjfEpXi"
      },
      "execution_count": 3,
      "outputs": []
    },
    {
      "cell_type": "code",
      "source": [],
      "metadata": {
        "id": "bn7Pq9VMKq7z"
      },
      "execution_count": null,
      "outputs": []
    },
    {
      "cell_type": "code",
      "source": [
        "# Вычисление среднего значения зарплаты\n",
        "average_salary = data['AVG_Salary'].mean()\n",
        "\n",
        "# Вычисление медианы зарплаты\n",
        "median_salary = data['AVG_Salary'].median()\n",
        "\n",
        "# Вычисление оценки дисперсии зарплаты\n",
        "variance_estimate = data['AVG_Salary'].var(ddof=0)  # Установка ddof=0 для вычисления выборочной дисперсии\n",
        "\n",
        "# Вывод результата\n",
        "print(\"Оценка дисперсии зарплаты:\", round(variance_estimate, 2))\n",
        "\n",
        "# Среднее значение зарплаты\n",
        "mean_salary = data['AVG_Salary'].mean()\n",
        "\n",
        "# Вычисление суммы квадратов разностей от среднего\n",
        "sum_of_squares = ((data['AVG_Salary'] - mean_salary) ** 2).sum()\n",
        "\n",
        "# Вычисление стандартного отклонения\n",
        "std_deviation = (sum_of_squares / len(data['AVG_Salary'])) ** 0.5\n",
        "\n",
        "\n",
        "# Вывод результатов\n",
        "print(\"Среднее значение зарплаты:\", round(average_salary, 2))\n",
        "print(\"Медиана зарплаты:\", round(median_salary, 2))\n",
        "\n",
        "print(\"Стандартное отклонение зарплаты:\", round(std_deviation, 2))"
      ],
      "metadata": {
        "colab": {
          "base_uri": "https://localhost:8080/"
        },
        "id": "5fHYv5ZxIydD",
        "outputId": "1127ab09-268c-4f1e-bc9b-90c327c6f26a"
      },
      "execution_count": 7,
      "outputs": [
        {
          "output_type": "stream",
          "name": "stdout",
          "text": [
            "Оценка дисперсии зарплаты: 278783319.05\n",
            "Среднее значение зарплаты: 39399.05\n",
            "Медиана зарплаты: 33197.5\n",
            "Стандартное отклонение зарплаты: 16696.81\n"
          ]
        }
      ]
    },
    {
      "cell_type": "code",
      "source": [],
      "metadata": {
        "id": "qMHgCyHLJsYT"
      },
      "execution_count": null,
      "outputs": []
    }
  ]
}