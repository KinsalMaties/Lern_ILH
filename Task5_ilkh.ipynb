{
  "nbformat": 4,
  "nbformat_minor": 0,
  "metadata": {
    "colab": {
      "provenance": [],
      "authorship_tag": "ABX9TyP3AFFJyILVfmQ/cKQ4lMkR",
      "include_colab_link": true
    },
    "kernelspec": {
      "name": "python3",
      "display_name": "Python 3"
    },
    "language_info": {
      "name": "python"
    }
  },
  "cells": [
    {
      "cell_type": "markdown",
      "metadata": {
        "id": "view-in-github",
        "colab_type": "text"
      },
      "source": [
        "<a href=\"https://colab.research.google.com/github/KinsalMaties/Lern_ILH/blob/ilkhamiya/Task5_ilkh.ipynb\" target=\"_parent\"><img src=\"https://colab.research.google.com/assets/colab-badge.svg\" alt=\"Open In Colab\"/></a>"
      ]
    },
    {
      "cell_type": "code",
      "execution_count": 1,
      "metadata": {
        "colab": {
          "base_uri": "https://localhost:8080/"
        },
        "id": "Ugh4qIb-8x26",
        "outputId": "c5e75fe7-b98f-44f3-a9e1-84f936493fc5"
      },
      "outputs": [
        {
          "output_type": "stream",
          "name": "stdout",
          "text": [
            "1. Вероятность сообщения быть SPAM: 0.0\n",
            "2. F(spam): 0.1\n",
            "3. F(ham): 0.1\n",
            "4. P(Class = Yes | Email): 0.0\n"
          ]
        }
      ],
      "source": [
        "# Данные из обучающего набора\n",
        "total_spam_emails = 27\n",
        "total_ham_emails = 25\n",
        "total_spam_words = 138\n",
        "total_ham_words = 108\n",
        "\n",
        "# Вероятности для каждого слова в каждом классе\n",
        "word_probabilities = {\n",
        "    'Unlimited': {'SPAM': 1/138, 'HAM': 7/108},\n",
        "    'Million': {'SPAM': 2/138, 'HAM': 0/108},\n",
        "    'Money': {'SPAM': 1/138, 'HAM': 4/108},\n",
        "    'Bonus': {'SPAM': 7/138, 'HAM': 9/108},\n",
        "    'Purchase': {'SPAM': 9/138, 'HAM': 5/108},\n",
        "    'Offer': {'SPAM': 23/138, 'HAM': 15/108},\n",
        "    'Access': {'SPAM': 40/138, 'HAM': 0/108},\n",
        "    'Remove': {'SPAM': 12/138, 'HAM': 16/108},\n",
        "    'Free': {'SPAM': 42/138, 'HAM': 39/108},\n",
        "    'Investment': {'SPAM': 1/138, 'HAM': 13/108}\n",
        "}\n",
        "\n",
        "# Слова в тестируемом сообщении\n",
        "test_email = ['Purchase', 'Refund', 'Offer', 'Prize', 'Investment', 'Million', 'Bonus']\n",
        "\n",
        "# 1. Specify the probability that the email is SPAM based on the training set:\n",
        "# Вычисляем вероятность сообщения быть SPAM\n",
        "spam_probability = 1.0\n",
        "for word in test_email:\n",
        "    if word in word_probabilities:\n",
        "        spam_probability *= word_probabilities[word]['SPAM']\n",
        "\n",
        "# Нормализуем вероятность\n",
        "total_spam_probability = (spam_probability * total_spam_emails) / ((spam_probability * total_spam_emails) + ((1 - spam_probability) * total_ham_emails))\n",
        "print(\"1. Вероятность сообщения быть SPAM:\", round(total_spam_probability, 3))\n",
        "\n",
        "# 2. Calculate F(spam)\n",
        "# Вычисляем F(spam)\n",
        "average_spam_probability = sum(word_probabilities[word]['SPAM'] for word in word_probabilities) / len(word_probabilities)\n",
        "print(\"2. F(spam):\", round(average_spam_probability, 3))\n",
        "\n",
        "# 3. Calculate F(ham)\n",
        "# Вычисляем F(ham)\n",
        "average_ham_probability = sum(word_probabilities[word]['HAM'] for word in word_probabilities) / len(word_probabilities)\n",
        "print(\"3. F(ham):\", round(average_ham_probability, 3))\n",
        "\n",
        "# 4. Specify the probability P(Class = Yes | Email) that the email Purchase Refund Offer Prize Investment Million Bonus is SPAM:\n",
        "# Вычисляем вероятность сообщения быть SPAM\n",
        "spam_probability = 1.0\n",
        "for word in test_email:\n",
        "    if word in word_probabilities:\n",
        "        spam_probability *= word_probabilities[word]['SPAM']\n",
        "\n",
        "# Нормализуем вероятность\n",
        "total_spam_probability = spam_probability / (spam_probability + ((1 - spam_probability)))\n",
        "print(\"4. P(Class = Yes | Email):\", round(total_spam_probability, 3))\n"
      ]
    },
    {
      "cell_type": "code",
      "source": [
        "# Данные из обучающего набора\n",
        "total_spam_emails = 27\n",
        "total_ham_emails = 25\n",
        "total_spam_words = 138\n",
        "total_ham_words = 108\n",
        "\n",
        "# Вероятности для каждого слова в каждом классе\n",
        "word_probabilities = {\n",
        "    'Unlimited': {'SPAM': 1/138, 'HAM': 7/108},\n",
        "    'Million': {'SPAM': 2/138, 'HAM': 0/108},\n",
        "    'Money': {'SPAM': 1/138, 'HAM': 4/108},\n",
        "    'Bonus': {'SPAM': 7/138, 'HAM': 9/108},\n",
        "    'Purchase': {'SPAM': 9/138, 'HAM': 5/108},\n",
        "    'Offer': {'SPAM': 23/138, 'HAM': 15/108},\n",
        "    'Access': {'SPAM': 40/138, 'HAM': 0/108},\n",
        "    'Remove': {'SPAM': 12/138, 'HAM': 16/108},\n",
        "    'Free': {'SPAM': 42/138, 'HAM': 39/108},\n",
        "    'Investment': {'SPAM': 1/138, 'HAM': 13/108}\n",
        "}\n",
        "\n",
        "# Слова в тестируемом сообщении\n",
        "test_email = ['Purchase', 'Refund', 'Offer', 'Prize', 'Investment', 'Million', 'Bonus']\n",
        "\n",
        "# 1. Specify the probability that the email is SPAM based on the training set:\n",
        "# Вычисляем вероятность сообщения быть SPAM\n",
        "spam_probability = 1.0\n",
        "ham_probability = 1.0\n",
        "for word in test_email:\n",
        "    if word in word_probabilities:\n",
        "        spam_probability *= word_probabilities[word]['SPAM']\n",
        "        ham_probability *= word_probabilities[word]['HAM']\n",
        "\n",
        "# Нормализуем вероятность\n",
        "total_spam_probability = (spam_probability * total_spam_emails) / ((spam_probability * total_spam_emails) + (ham_probability * total_ham_emails))\n",
        "print(\"1. Вероятность сообщения быть SPAM:\", round(total_spam_probability, 3))\n",
        "\n",
        "# 2. Calculate F(spam)\n",
        "# Вычисляем F(spam)\n",
        "average_spam_probability = sum(word_probabilities[word]['SPAM'] for word in word_probabilities) / len(word_probabilities)\n",
        "print(\"2. F(spam):\", round(average_spam_probability, 3))\n",
        "\n",
        "# 3. Calculate F(ham)\n",
        "# Вычисляем F(ham)\n",
        "average_ham_probability = sum(word_probabilities[word]['HAM'] for word in word_probabilities) / len(word_probabilities)\n",
        "print(\"3. F(ham):\", round(average_ham_probability, 3))\n",
        "\n",
        "# 4. Specify the probability P(Class = Yes | Email) that the email Purchase Refund Offer Prize Investment Million Bonus is SPAM:\n",
        "# Вычисляем вероятность сообщения быть SPAM\n",
        "spam_probability = 1.0\n",
        "for word in test_email:\n",
        "    if word in word_probabilities:\n",
        "        spam_probability *= word_probabilities[word]['SPAM']\n",
        "\n",
        "# Нормализуем вероятность\n",
        "total_spam_probability = spam_probability / (spam_probability + ((1 - spam_probability)))\n",
        "print(\"4. P(Class = Yes | Email):\", round(total_spam_probability, 3))\n"
      ],
      "metadata": {
        "colab": {
          "base_uri": "https://localhost:8080/"
        },
        "id": "IA_-8aXy8yfJ",
        "outputId": "fe1517d0-7f8d-4f97-f831-7443388c8f9a"
      },
      "execution_count": 2,
      "outputs": [
        {
          "output_type": "stream",
          "name": "stdout",
          "text": [
            "1. Вероятность сообщения быть SPAM: 1.0\n",
            "2. F(spam): 0.1\n",
            "3. F(ham): 0.1\n",
            "4. P(Class = Yes | Email): 0.0\n"
          ]
        }
      ]
    },
    {
      "cell_type": "code",
      "source": [
        "# Заданные данные\n",
        "class_data = {\n",
        "    'SPAM': {'Emails': 27, 'Words': 138, 'Unique Words': {'Unlimited': 1, 'Million': 2, 'Money': 1, 'Bonus': 7, 'Purchase': 9, 'Offer': 23, 'Access': 40, 'Remove': 12, 'Free': 42, 'Investment': 1}},\n",
        "    'HAM': {'Emails': 25, 'Words': 108, 'Unique Words': {'Unlimited': 7, 'Money': 4, 'Bonus': 9, 'Purchase': 5, 'Offer': 15, 'Remove': 16, 'Free': 39, 'Investment': 13}}\n",
        "}\n",
        "\n",
        "# Вероятность, что электронное письмо является SPAM на основе обучающего набора данных\n",
        "p_email_spam_training = class_data['SPAM']['Emails'] / (class_data['SPAM']['Emails'] + class_data['HAM']['Emails'])\n",
        "\n",
        "# Сглаживание вероятностей слов\n",
        "vocabulary_size_spam = len(class_data['SPAM']['Unique Words'])\n",
        "vocabulary_size_ham = len(class_data['HAM']['Unique Words'])\n",
        "smoothed_word_prob_spam = {word: (class_data['SPAM']['Unique Words'].get(word, 0) + 1) / (class_data['SPAM']['Words'] + vocabulary_size_spam) for word in class_data['SPAM']['Unique Words']}\n",
        "smoothed_word_prob_ham = {word: (class_data['HAM']['Unique Words'].get(word, 0) + 1) / (class_data['HAM']['Words'] + vocabulary_size_ham) for word in class_data['HAM']['Unique Words']}\n",
        "\n",
        "# Вычисление P(Email | SPAM)\n",
        "p_email_given_spam = 1\n",
        "for word in class_data['SPAM']['Unique Words']:\n",
        "    if word in class_data['SPAM']['Unique Words']:\n",
        "        p_email_given_spam *= smoothed_word_prob_spam[word]\n",
        "\n",
        "# Вычисление P(Email | HAM)\n",
        "p_email_given_ham = 1\n",
        "for word in class_data['HAM']['Unique Words']:\n",
        "    if word in class_data['HAM']['Unique Words']:\n",
        "        p_email_given_ham *= smoothed_word_prob_ham[word]\n",
        "\n",
        "# Вычисление F-меры для класса SPAM\n",
        "precision_spam = p_email_given_spam\n",
        "recall_spam = p_email_given_spam\n",
        "f_spam = 2 * (precision_spam * recall_spam) / (precision_spam + recall_spam)\n",
        "\n",
        "# Вычисление F-меры для класса HAM\n",
        "precision_ham = p_email_given_ham\n",
        "recall_ham = p_email_given_ham\n",
        "f_ham = 2 * (precision_ham * recall_ham) / (precision_ham + recall_ham)\n",
        "\n",
        "# Определение вероятности P(Class = Yes | Email) для сообщения \"Purchase Refund Offer Prize Investment Million Bonus\"\n",
        "p_spam_given_email = (p_email_given_spam * p_email_spam_training) / ((p_email_given_spam * p_email_spam_training) + (p_email_given_ham * (1 - p_email_spam_training)))\n",
        "\n",
        "# Вывод результатов\n",
        "print(\"1. Вероятность того, что электронное письмо является SPAM на основе обучающего набора данных: {:.3f}\".format(p_email_spam_training))\n",
        "print(\"2. Вероятность P(Email | SPAM): {:.3f}\".format(p_email_given_spam))\n",
        "print(\"3. Значение F-меры для класса SPAM: {:.3f}\".format(f_spam))\n",
        "print(\"4. Значение F-меры для класса HAM: {:.3f}\".format(f_ham))\n",
        "print(\"5. Вероятность P(Class = Yes | Email) для SPAM: {:.3f}\".format(p_spam_given_email))\n"
      ],
      "metadata": {
        "colab": {
          "base_uri": "https://localhost:8080/"
        },
        "id": "OceYq1KY9Ccx",
        "outputId": "df39c286-f5dd-4b65-9746-461df4076850"
      },
      "execution_count": 3,
      "outputs": [
        {
          "output_type": "stream",
          "name": "stdout",
          "text": [
            "1. Вероятность того, что электронное письмо является SPAM на основе обучающего набора данных: 0.519\n",
            "2. Вероятность P(Email | SPAM): 0.000\n",
            "3. Значение F-меры для класса SPAM: 0.000\n",
            "4. Значение F-меры для класса HAM: 0.000\n",
            "5. Вероятность P(Class = Yes | Email) для SPAM: 0.000\n"
          ]
        }
      ]
    },
    {
      "cell_type": "code",
      "source": [
        "class_data = {\n",
        "    'SPAM': {'Emails': 21, 'Words': 124, 'Unique Words': {'Gift': 6, 'Coupon': 0, 'Access': 4, 'Free': 6, 'Offer': 5, 'Bonus': 12, 'Purchase': 5, 'Refund': 9, 'Unlimited': 22, 'Online': 55}},\n",
        "    'HAM': {'Emails': 19, 'Words': 777, 'Unique Words': {'Gift': 8, 'Coupon': 3, 'Access': 1, 'Free': 1, 'Offer': 11, 'Bonus': 11, 'Purchase': 1, 'Refund': 10, 'Unlimited': 19, 'Online': 12}}\n",
        "}\n",
        "\n",
        "\n",
        "# Список слов в тестовом электронном письме\n",
        "test_email_words = ['Online', 'Offer', 'Access', 'Free', 'Unlimited', 'Remove', 'Prize']\n",
        "\n",
        "# Вероятность, что электронное письмо является SPAM на основе обучающего набора данных\n",
        "p_email_spam_training = class_data['SPAM']['Emails'] / (class_data['SPAM']['Emails'] + class_data['HAM']['Emails'])\n",
        "\n",
        "# Сглаживание вероятностей слов\n",
        "vocabulary_size_spam = len(class_data['SPAM']['Unique Words'])\n",
        "vocabulary_size_ham = len(class_data['HAM']['Unique Words'])\n",
        "\n",
        "# Вычисление P(Email | SPAM)\n",
        "p_email_given_spam = 1\n",
        "for word in test_email_words:\n",
        "    p_email_given_spam *= (class_data['SPAM']['Unique Words'].get(word, 0) + 1) / (class_data['SPAM']['Words'] + vocabulary_size_spam)\n",
        "\n",
        "# Вычисление P(Email | HAM)\n",
        "p_email_given_ham = 1\n",
        "for word in test_email_words:\n",
        "    p_email_given_ham *= (class_data['HAM']['Unique Words'].get(word, 0) + 1) / (class_data['HAM']['Words'] + vocabulary_size_ham)\n",
        "\n",
        "# Вычисление F-меры для класса SPAM\n",
        "precision_spam = p_email_given_spam\n",
        "recall_spam = p_email_given_spam\n",
        "f_spam = 2 * (precision_spam * recall_spam) / (precision_spam + recall_spam)\n",
        "\n",
        "# Вычисление F-меры для класса HAM\n",
        "precision_ham = p_email_given_ham\n",
        "recall_ham = p_email_given_ham\n",
        "f_ham = 2 * (precision_ham * recall_ham) / (precision_ham + recall_ham)\n",
        "\n",
        "# Определение вероятности P(Class = Yes | Email) для сообщения \"Purchase Refund Offer Prize Investment Million Bonus\"\n",
        "p_spam_given_email = (p_email_given_spam * p_email_spam_training) / ((p_email_given_spam * p_email_spam_training) + (p_email_given_ham * (1 - p_email_spam_training)))\n",
        "\n",
        "# Вывод результатов\n",
        "print(\"1. Вероятность того, что электронное письмо является SPAM на основе обучающего набора данных: {:.3f}\".format(p_email_spam_training))\n",
        "print(\"2. Вероятность P(Email | SPAM): {:.3f}\".format(p_email_given_spam))\n",
        "print(\"3. Значение F-меры для класса SPAM: {:.3f}\".format(f_spam))\n",
        "print(\"4. Значение F-меры для класса HAM: {:.3f}\".format(f_ham))\n",
        "print(\"5. Вероятность P(Class = Yes | Email) для SPAM: {:.3f}\".format(p_spam_given_email))\n"
      ],
      "metadata": {
        "colab": {
          "base_uri": "https://localhost:8080/"
        },
        "id": "_sn9t5yF9LdZ",
        "outputId": "ec85f98c-3595-4749-d276-32a8ef9bf8ea"
      },
      "execution_count": 5,
      "outputs": [
        {
          "output_type": "stream",
          "name": "stdout",
          "text": [
            "1. Вероятность того, что электронное письмо является SPAM на основе обучающего набора данных: 0.525\n",
            "2. Вероятность P(Email | SPAM): 0.000\n",
            "3. Значение F-меры для класса SPAM: 0.000\n",
            "4. Значение F-меры для класса HAM: 0.000\n",
            "5. Вероятность P(Class = Yes | Email) для SPAM: 1.000\n"
          ]
        }
      ]
    },
    {
      "cell_type": "code",
      "source": [],
      "metadata": {
        "id": "yhwLzDSR9lCg"
      },
      "execution_count": null,
      "outputs": []
    }
  ]
}