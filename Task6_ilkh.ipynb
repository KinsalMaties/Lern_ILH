{
  "nbformat": 4,
  "nbformat_minor": 0,
  "metadata": {
    "colab": {
      "provenance": [],
      "authorship_tag": "ABX9TyN9MuIoV7DN7VLI9zzT1Glj",
      "include_colab_link": true
    },
    "kernelspec": {
      "name": "python3",
      "display_name": "Python 3"
    },
    "language_info": {
      "name": "python"
    }
  },
  "cells": [
    {
      "cell_type": "markdown",
      "metadata": {
        "id": "view-in-github",
        "colab_type": "text"
      },
      "source": [
        "<a href=\"https://colab.research.google.com/github/KinsalMaties/Lern_ILH/blob/ilkhamiya/Task6_ilkh.ipynb\" target=\"_parent\"><img src=\"https://colab.research.google.com/assets/colab-badge.svg\" alt=\"Open In Colab\"/></a>"
      ]
    },
    {
      "cell_type": "code",
      "execution_count": 1,
      "metadata": {
        "id": "xtqrCHS1dzUA"
      },
      "outputs": [],
      "source": [
        "# Импортируем необходимые библиотеки\n",
        "import pandas as pd\n",
        "import matplotlib.pyplot as plt\n"
      ]
    },
    {
      "cell_type": "code",
      "source": [
        "# Загрузка данных из файла\n",
        "data = pd.read_csv(\"titanic_train.csv\")"
      ],
      "metadata": {
        "id": "fH2p0zozeMYb"
      },
      "execution_count": 2,
      "outputs": []
    },
    {
      "cell_type": "code",
      "source": [
        "data.head()\n"
      ],
      "metadata": {
        "colab": {
          "base_uri": "https://localhost:8080/",
          "height": 206
        },
        "id": "pr-ArTJgeQwy",
        "outputId": "1ebe29ab-9635-4355-d2ab-8c0f427e8fd6"
      },
      "execution_count": 3,
      "outputs": [
        {
          "output_type": "execute_result",
          "data": {
            "text/plain": [
              "   pclass  survived                                             name     sex  \\\n",
              "0       3         1                               Smyth, Miss. Julia  female   \n",
              "1       3         1                         Glynn, Miss. Mary Agatha  female   \n",
              "2       3         1  Whabee, Mrs. George Joseph (Shawneene Abi-Saab)  female   \n",
              "3       3         0                                  Vovk, Mr. Janko    male   \n",
              "4       3         0                        de Pelsmaeker, Mr. Alfons    male   \n",
              "\n",
              "    age  sibsp  parch  ticket    fare cabin embarked  \\\n",
              "0   NaN      0      0  335432  7.7333   NaN        Q   \n",
              "1   NaN      0      0  335677  7.7500   NaN        Q   \n",
              "2  38.0      0      0    2688  7.2292   NaN        C   \n",
              "3  22.0      0      0  349252  7.8958   NaN        S   \n",
              "4  16.0      0      0  345778  9.5000   NaN        S   \n",
              "\n",
              "                          home.dest  \n",
              "0                               NaN  \n",
              "1  Co Clare, Ireland Washington, DC  \n",
              "2                               NaN  \n",
              "3                               NaN  \n",
              "4                               NaN  "
            ],
            "text/html": [
              "\n",
              "  <div id=\"df-234dc27d-4da0-4aaa-86ca-85fe7901565d\" class=\"colab-df-container\">\n",
              "    <div>\n",
              "<style scoped>\n",
              "    .dataframe tbody tr th:only-of-type {\n",
              "        vertical-align: middle;\n",
              "    }\n",
              "\n",
              "    .dataframe tbody tr th {\n",
              "        vertical-align: top;\n",
              "    }\n",
              "\n",
              "    .dataframe thead th {\n",
              "        text-align: right;\n",
              "    }\n",
              "</style>\n",
              "<table border=\"1\" class=\"dataframe\">\n",
              "  <thead>\n",
              "    <tr style=\"text-align: right;\">\n",
              "      <th></th>\n",
              "      <th>pclass</th>\n",
              "      <th>survived</th>\n",
              "      <th>name</th>\n",
              "      <th>sex</th>\n",
              "      <th>age</th>\n",
              "      <th>sibsp</th>\n",
              "      <th>parch</th>\n",
              "      <th>ticket</th>\n",
              "      <th>fare</th>\n",
              "      <th>cabin</th>\n",
              "      <th>embarked</th>\n",
              "      <th>home.dest</th>\n",
              "    </tr>\n",
              "  </thead>\n",
              "  <tbody>\n",
              "    <tr>\n",
              "      <th>0</th>\n",
              "      <td>3</td>\n",
              "      <td>1</td>\n",
              "      <td>Smyth, Miss. Julia</td>\n",
              "      <td>female</td>\n",
              "      <td>NaN</td>\n",
              "      <td>0</td>\n",
              "      <td>0</td>\n",
              "      <td>335432</td>\n",
              "      <td>7.7333</td>\n",
              "      <td>NaN</td>\n",
              "      <td>Q</td>\n",
              "      <td>NaN</td>\n",
              "    </tr>\n",
              "    <tr>\n",
              "      <th>1</th>\n",
              "      <td>3</td>\n",
              "      <td>1</td>\n",
              "      <td>Glynn, Miss. Mary Agatha</td>\n",
              "      <td>female</td>\n",
              "      <td>NaN</td>\n",
              "      <td>0</td>\n",
              "      <td>0</td>\n",
              "      <td>335677</td>\n",
              "      <td>7.7500</td>\n",
              "      <td>NaN</td>\n",
              "      <td>Q</td>\n",
              "      <td>Co Clare, Ireland Washington, DC</td>\n",
              "    </tr>\n",
              "    <tr>\n",
              "      <th>2</th>\n",
              "      <td>3</td>\n",
              "      <td>1</td>\n",
              "      <td>Whabee, Mrs. George Joseph (Shawneene Abi-Saab)</td>\n",
              "      <td>female</td>\n",
              "      <td>38.0</td>\n",
              "      <td>0</td>\n",
              "      <td>0</td>\n",
              "      <td>2688</td>\n",
              "      <td>7.2292</td>\n",
              "      <td>NaN</td>\n",
              "      <td>C</td>\n",
              "      <td>NaN</td>\n",
              "    </tr>\n",
              "    <tr>\n",
              "      <th>3</th>\n",
              "      <td>3</td>\n",
              "      <td>0</td>\n",
              "      <td>Vovk, Mr. Janko</td>\n",
              "      <td>male</td>\n",
              "      <td>22.0</td>\n",
              "      <td>0</td>\n",
              "      <td>0</td>\n",
              "      <td>349252</td>\n",
              "      <td>7.8958</td>\n",
              "      <td>NaN</td>\n",
              "      <td>S</td>\n",
              "      <td>NaN</td>\n",
              "    </tr>\n",
              "    <tr>\n",
              "      <th>4</th>\n",
              "      <td>3</td>\n",
              "      <td>0</td>\n",
              "      <td>de Pelsmaeker, Mr. Alfons</td>\n",
              "      <td>male</td>\n",
              "      <td>16.0</td>\n",
              "      <td>0</td>\n",
              "      <td>0</td>\n",
              "      <td>345778</td>\n",
              "      <td>9.5000</td>\n",
              "      <td>NaN</td>\n",
              "      <td>S</td>\n",
              "      <td>NaN</td>\n",
              "    </tr>\n",
              "  </tbody>\n",
              "</table>\n",
              "</div>\n",
              "    <div class=\"colab-df-buttons\">\n",
              "\n",
              "  <div class=\"colab-df-container\">\n",
              "    <button class=\"colab-df-convert\" onclick=\"convertToInteractive('df-234dc27d-4da0-4aaa-86ca-85fe7901565d')\"\n",
              "            title=\"Convert this dataframe to an interactive table.\"\n",
              "            style=\"display:none;\">\n",
              "\n",
              "  <svg xmlns=\"http://www.w3.org/2000/svg\" height=\"24px\" viewBox=\"0 -960 960 960\">\n",
              "    <path d=\"M120-120v-720h720v720H120Zm60-500h600v-160H180v160Zm220 220h160v-160H400v160Zm0 220h160v-160H400v160ZM180-400h160v-160H180v160Zm440 0h160v-160H620v160ZM180-180h160v-160H180v160Zm440 0h160v-160H620v160Z\"/>\n",
              "  </svg>\n",
              "    </button>\n",
              "\n",
              "  <style>\n",
              "    .colab-df-container {\n",
              "      display:flex;\n",
              "      gap: 12px;\n",
              "    }\n",
              "\n",
              "    .colab-df-convert {\n",
              "      background-color: #E8F0FE;\n",
              "      border: none;\n",
              "      border-radius: 50%;\n",
              "      cursor: pointer;\n",
              "      display: none;\n",
              "      fill: #1967D2;\n",
              "      height: 32px;\n",
              "      padding: 0 0 0 0;\n",
              "      width: 32px;\n",
              "    }\n",
              "\n",
              "    .colab-df-convert:hover {\n",
              "      background-color: #E2EBFA;\n",
              "      box-shadow: 0px 1px 2px rgba(60, 64, 67, 0.3), 0px 1px 3px 1px rgba(60, 64, 67, 0.15);\n",
              "      fill: #174EA6;\n",
              "    }\n",
              "\n",
              "    .colab-df-buttons div {\n",
              "      margin-bottom: 4px;\n",
              "    }\n",
              "\n",
              "    [theme=dark] .colab-df-convert {\n",
              "      background-color: #3B4455;\n",
              "      fill: #D2E3FC;\n",
              "    }\n",
              "\n",
              "    [theme=dark] .colab-df-convert:hover {\n",
              "      background-color: #434B5C;\n",
              "      box-shadow: 0px 1px 3px 1px rgba(0, 0, 0, 0.15);\n",
              "      filter: drop-shadow(0px 1px 2px rgba(0, 0, 0, 0.3));\n",
              "      fill: #FFFFFF;\n",
              "    }\n",
              "  </style>\n",
              "\n",
              "    <script>\n",
              "      const buttonEl =\n",
              "        document.querySelector('#df-234dc27d-4da0-4aaa-86ca-85fe7901565d button.colab-df-convert');\n",
              "      buttonEl.style.display =\n",
              "        google.colab.kernel.accessAllowed ? 'block' : 'none';\n",
              "\n",
              "      async function convertToInteractive(key) {\n",
              "        const element = document.querySelector('#df-234dc27d-4da0-4aaa-86ca-85fe7901565d');\n",
              "        const dataTable =\n",
              "          await google.colab.kernel.invokeFunction('convertToInteractive',\n",
              "                                                    [key], {});\n",
              "        if (!dataTable) return;\n",
              "\n",
              "        const docLinkHtml = 'Like what you see? Visit the ' +\n",
              "          '<a target=\"_blank\" href=https://colab.research.google.com/notebooks/data_table.ipynb>data table notebook</a>'\n",
              "          + ' to learn more about interactive tables.';\n",
              "        element.innerHTML = '';\n",
              "        dataTable['output_type'] = 'display_data';\n",
              "        await google.colab.output.renderOutput(dataTable, element);\n",
              "        const docLink = document.createElement('div');\n",
              "        docLink.innerHTML = docLinkHtml;\n",
              "        element.appendChild(docLink);\n",
              "      }\n",
              "    </script>\n",
              "  </div>\n",
              "\n",
              "\n",
              "<div id=\"df-8aa401b0-c088-447d-8b5c-0e1bf8368aee\">\n",
              "  <button class=\"colab-df-quickchart\" onclick=\"quickchart('df-8aa401b0-c088-447d-8b5c-0e1bf8368aee')\"\n",
              "            title=\"Suggest charts\"\n",
              "            style=\"display:none;\">\n",
              "\n",
              "<svg xmlns=\"http://www.w3.org/2000/svg\" height=\"24px\"viewBox=\"0 0 24 24\"\n",
              "     width=\"24px\">\n",
              "    <g>\n",
              "        <path d=\"M19 3H5c-1.1 0-2 .9-2 2v14c0 1.1.9 2 2 2h14c1.1 0 2-.9 2-2V5c0-1.1-.9-2-2-2zM9 17H7v-7h2v7zm4 0h-2V7h2v10zm4 0h-2v-4h2v4z\"/>\n",
              "    </g>\n",
              "</svg>\n",
              "  </button>\n",
              "\n",
              "<style>\n",
              "  .colab-df-quickchart {\n",
              "      --bg-color: #E8F0FE;\n",
              "      --fill-color: #1967D2;\n",
              "      --hover-bg-color: #E2EBFA;\n",
              "      --hover-fill-color: #174EA6;\n",
              "      --disabled-fill-color: #AAA;\n",
              "      --disabled-bg-color: #DDD;\n",
              "  }\n",
              "\n",
              "  [theme=dark] .colab-df-quickchart {\n",
              "      --bg-color: #3B4455;\n",
              "      --fill-color: #D2E3FC;\n",
              "      --hover-bg-color: #434B5C;\n",
              "      --hover-fill-color: #FFFFFF;\n",
              "      --disabled-bg-color: #3B4455;\n",
              "      --disabled-fill-color: #666;\n",
              "  }\n",
              "\n",
              "  .colab-df-quickchart {\n",
              "    background-color: var(--bg-color);\n",
              "    border: none;\n",
              "    border-radius: 50%;\n",
              "    cursor: pointer;\n",
              "    display: none;\n",
              "    fill: var(--fill-color);\n",
              "    height: 32px;\n",
              "    padding: 0;\n",
              "    width: 32px;\n",
              "  }\n",
              "\n",
              "  .colab-df-quickchart:hover {\n",
              "    background-color: var(--hover-bg-color);\n",
              "    box-shadow: 0 1px 2px rgba(60, 64, 67, 0.3), 0 1px 3px 1px rgba(60, 64, 67, 0.15);\n",
              "    fill: var(--button-hover-fill-color);\n",
              "  }\n",
              "\n",
              "  .colab-df-quickchart-complete:disabled,\n",
              "  .colab-df-quickchart-complete:disabled:hover {\n",
              "    background-color: var(--disabled-bg-color);\n",
              "    fill: var(--disabled-fill-color);\n",
              "    box-shadow: none;\n",
              "  }\n",
              "\n",
              "  .colab-df-spinner {\n",
              "    border: 2px solid var(--fill-color);\n",
              "    border-color: transparent;\n",
              "    border-bottom-color: var(--fill-color);\n",
              "    animation:\n",
              "      spin 1s steps(1) infinite;\n",
              "  }\n",
              "\n",
              "  @keyframes spin {\n",
              "    0% {\n",
              "      border-color: transparent;\n",
              "      border-bottom-color: var(--fill-color);\n",
              "      border-left-color: var(--fill-color);\n",
              "    }\n",
              "    20% {\n",
              "      border-color: transparent;\n",
              "      border-left-color: var(--fill-color);\n",
              "      border-top-color: var(--fill-color);\n",
              "    }\n",
              "    30% {\n",
              "      border-color: transparent;\n",
              "      border-left-color: var(--fill-color);\n",
              "      border-top-color: var(--fill-color);\n",
              "      border-right-color: var(--fill-color);\n",
              "    }\n",
              "    40% {\n",
              "      border-color: transparent;\n",
              "      border-right-color: var(--fill-color);\n",
              "      border-top-color: var(--fill-color);\n",
              "    }\n",
              "    60% {\n",
              "      border-color: transparent;\n",
              "      border-right-color: var(--fill-color);\n",
              "    }\n",
              "    80% {\n",
              "      border-color: transparent;\n",
              "      border-right-color: var(--fill-color);\n",
              "      border-bottom-color: var(--fill-color);\n",
              "    }\n",
              "    90% {\n",
              "      border-color: transparent;\n",
              "      border-bottom-color: var(--fill-color);\n",
              "    }\n",
              "  }\n",
              "</style>\n",
              "\n",
              "  <script>\n",
              "    async function quickchart(key) {\n",
              "      const quickchartButtonEl =\n",
              "        document.querySelector('#' + key + ' button');\n",
              "      quickchartButtonEl.disabled = true;  // To prevent multiple clicks.\n",
              "      quickchartButtonEl.classList.add('colab-df-spinner');\n",
              "      try {\n",
              "        const charts = await google.colab.kernel.invokeFunction(\n",
              "            'suggestCharts', [key], {});\n",
              "      } catch (error) {\n",
              "        console.error('Error during call to suggestCharts:', error);\n",
              "      }\n",
              "      quickchartButtonEl.classList.remove('colab-df-spinner');\n",
              "      quickchartButtonEl.classList.add('colab-df-quickchart-complete');\n",
              "    }\n",
              "    (() => {\n",
              "      let quickchartButtonEl =\n",
              "        document.querySelector('#df-8aa401b0-c088-447d-8b5c-0e1bf8368aee button');\n",
              "      quickchartButtonEl.style.display =\n",
              "        google.colab.kernel.accessAllowed ? 'block' : 'none';\n",
              "    })();\n",
              "  </script>\n",
              "</div>\n",
              "    </div>\n",
              "  </div>\n"
            ],
            "application/vnd.google.colaboratory.intrinsic+json": {
              "type": "dataframe",
              "variable_name": "data",
              "summary": "{\n  \"name\": \"data\",\n  \"rows\": 981,\n  \"fields\": [\n    {\n      \"column\": \"pclass\",\n      \"properties\": {\n        \"dtype\": \"number\",\n        \"std\": 0,\n        \"min\": 1,\n        \"max\": 3,\n        \"num_unique_values\": 3,\n        \"samples\": [\n          3,\n          1,\n          2\n        ],\n        \"semantic_type\": \"\",\n        \"description\": \"\"\n      }\n    },\n    {\n      \"column\": \"survived\",\n      \"properties\": {\n        \"dtype\": \"number\",\n        \"std\": 0,\n        \"min\": 0,\n        \"max\": 1,\n        \"num_unique_values\": 2,\n        \"samples\": [\n          0,\n          1\n        ],\n        \"semantic_type\": \"\",\n        \"description\": \"\"\n      }\n    },\n    {\n      \"column\": \"name\",\n      \"properties\": {\n        \"dtype\": \"string\",\n        \"num_unique_values\": 981,\n        \"samples\": [\n          \"Nakid, Mr. Sahid\",\n          \"Morrow, Mr. Thomas Rowan\"\n        ],\n        \"semantic_type\": \"\",\n        \"description\": \"\"\n      }\n    },\n    {\n      \"column\": \"sex\",\n      \"properties\": {\n        \"dtype\": \"category\",\n        \"num_unique_values\": 2,\n        \"samples\": [\n          \"male\",\n          \"female\"\n        ],\n        \"semantic_type\": \"\",\n        \"description\": \"\"\n      }\n    },\n    {\n      \"column\": \"age\",\n      \"properties\": {\n        \"dtype\": \"number\",\n        \"std\": 14.482024573057426,\n        \"min\": 0.3333,\n        \"max\": 80.0,\n        \"num_unique_values\": 92,\n        \"samples\": [\n          11.0,\n          33.0\n        ],\n        \"semantic_type\": \"\",\n        \"description\": \"\"\n      }\n    },\n    {\n      \"column\": \"sibsp\",\n      \"properties\": {\n        \"dtype\": \"number\",\n        \"std\": 0,\n        \"min\": 0,\n        \"max\": 8,\n        \"num_unique_values\": 7,\n        \"samples\": [\n          0,\n          4\n        ],\n        \"semantic_type\": \"\",\n        \"description\": \"\"\n      }\n    },\n    {\n      \"column\": \"parch\",\n      \"properties\": {\n        \"dtype\": \"number\",\n        \"std\": 0,\n        \"min\": 0,\n        \"max\": 9,\n        \"num_unique_values\": 7,\n        \"samples\": [\n          0,\n          2\n        ],\n        \"semantic_type\": \"\",\n        \"description\": \"\"\n      }\n    },\n    {\n      \"column\": \"ticket\",\n      \"properties\": {\n        \"dtype\": \"string\",\n        \"num_unique_values\": 746,\n        \"samples\": [\n          \"112059\",\n          \"315037\"\n        ],\n        \"semantic_type\": \"\",\n        \"description\": \"\"\n      }\n    },\n    {\n      \"column\": \"fare\",\n      \"properties\": {\n        \"dtype\": \"number\",\n        \"std\": 49.306258390202544,\n        \"min\": 0.0,\n        \"max\": 512.3292,\n        \"num_unique_values\": 254,\n        \"samples\": [\n          9.325,\n          26.0\n        ],\n        \"semantic_type\": \"\",\n        \"description\": \"\"\n      }\n    },\n    {\n      \"column\": \"cabin\",\n      \"properties\": {\n        \"dtype\": \"category\",\n        \"num_unique_values\": 148,\n        \"samples\": [\n          \"B50\",\n          \"C85\"\n        ],\n        \"semantic_type\": \"\",\n        \"description\": \"\"\n      }\n    },\n    {\n      \"column\": \"embarked\",\n      \"properties\": {\n        \"dtype\": \"category\",\n        \"num_unique_values\": 3,\n        \"samples\": [\n          \"Q\",\n          \"C\"\n        ],\n        \"semantic_type\": \"\",\n        \"description\": \"\"\n      }\n    },\n    {\n      \"column\": \"home.dest\",\n      \"properties\": {\n        \"dtype\": \"category\",\n        \"num_unique_values\": 318,\n        \"samples\": [\n          \"Tampico, MT\",\n          \"London / Winnipeg, MB\"\n        ],\n        \"semantic_type\": \"\",\n        \"description\": \"\"\n      }\n    }\n  ]\n}"
            }
          },
          "metadata": {},
          "execution_count": 3
        }
      ]
    },
    {
      "cell_type": "code",
      "source": [
        "# Определяем количество пропущенных значений в столбце \"age\"\n",
        "missing_age = data['age'].isnull().sum()\n",
        "\n",
        "# Выводим ответ\n",
        "print(\"Количество пропущенных значений в столбце 'age':\", missing_age)"
      ],
      "metadata": {
        "colab": {
          "base_uri": "https://localhost:8080/"
        },
        "id": "qjUGJJd8eTBY",
        "outputId": "58883fbb-4354-4516-cbd5-ba21c724d030"
      },
      "execution_count": 4,
      "outputs": [
        {
          "output_type": "stream",
          "name": "stdout",
          "text": [
            "Количество пропущенных значений в столбце 'age': 199\n"
          ]
        }
      ]
    },
    {
      "cell_type": "code",
      "source": [
        "# Построение гистограммы распределения объектов по классам\n",
        "plt.hist(data['pclass'])\n",
        "plt.xlabel('Класс')\n",
        "plt.ylabel('Частота')\n",
        "plt.title('Распределение объектов по классам')\n",
        "plt.show()\n",
        "\n",
        "# Расчет доли выживших\n",
        "survival_proportion = data['survived'].mean()\n",
        "\n",
        "# Выводим ответ\n",
        "print(\"Доля выживших:\", round(survival_proportion, 3))"
      ],
      "metadata": {
        "colab": {
          "base_uri": "https://localhost:8080/",
          "height": 490
        },
        "id": "11yvhmUDeYja",
        "outputId": "ed204f34-308c-490f-92f6-2ee944feae22"
      },
      "execution_count": 5,
      "outputs": [
        {
          "output_type": "display_data",
          "data": {
            "text/plain": [
              "<Figure size 640x480 with 1 Axes>"
            ],
            "image/png": "[encoded data removed]"
          },
          "metadata": {}
        },
        {
          "output_type": "stream",
          "name": "stdout",
          "text": [
            "Доля выживших: 0.382\n"
          ]
        }
      ]
    },
    {
      "cell_type": "code",
      "source": [
        "# Определение пропорции пропущенных значений в каждом признаке\n",
        "missing_proportion = data.isnull().mean()\n",
        "\n",
        "# Удаление признаков, где пропорция пропущенных значений больше трети и столбца с билетами\n",
        "threshold = 1/3\n",
        "columns_to_drop = missing_proportion[missing_proportion > threshold].index.tolist()\n",
        "columns_to_drop.append('ticket')\n",
        "data_cleaned = data.drop(columns=columns_to_drop)\n",
        "\n",
        "# Создание нового признака fam_size\n",
        "data_cleaned['fam_size'] = data_cleaned['sibsp'] + data_cleaned['parch']\n",
        "\n",
        "# Расчет среднего значения столбца fam_size\n",
        "mean_fam_size = data_cleaned['fam_size'].mean()\n",
        "\n",
        "# Выводим ответ\n",
        "print(\"Среднее значение столбца fam_size:\", round(mean_fam_size, 3))\n"
      ],
      "metadata": {
        "colab": {
          "base_uri": "https://localhost:8080/"
        },
        "id": "mO1d_KaDeezS",
        "outputId": "cfb46612-6fd4-4035-db72-1a6ff3a2f273"
      },
      "execution_count": 6,
      "outputs": [
        {
          "output_type": "stream",
          "name": "stdout",
          "text": [
            "Среднее значение столбца fam_size: 0.866\n"
          ]
        }
      ]
    },
    {
      "cell_type": "code",
      "source": [
        "# Вычисление количества предикторов в полученном наборе данных\n",
        "num_predictors = data_cleaned.shape[1] - 1  # Вычитаем один, так как один столбец - это целевая переменная (survived)\n",
        "\n",
        "# Выводим ответ\n",
        "print(\"Количество предикторов в полученном наборе данных:\", num_predictors)\n"
      ],
      "metadata": {
        "colab": {
          "base_uri": "https://localhost:8080/"
        },
        "id": "7DcqMMc0enmq",
        "outputId": "dfdddaf3-c470-4a11-ceb8-1e820ea318e6"
      },
      "execution_count": 7,
      "outputs": [
        {
          "output_type": "stream",
          "name": "stdout",
          "text": [
            "Количество предикторов в полученном наборе данных: 9\n"
          ]
        }
      ]
    },
    {
      "cell_type": "code",
      "source": [
        "# Оценка вероятности выживания пассажира в заданной категории\n",
        "female_pclass2_survival_prob = data_cleaned[(data_cleaned['sex'] == 'female') & (data_cleaned['pclass'] == 3)]['survived'].mean()\n",
        "\n",
        "# Выводим ответ\n",
        "print(\"Вероятность выживания пассажира в заданной категории:\", round(female_pclass2_survival_prob, 3))"
      ],
      "metadata": {
        "colab": {
          "base_uri": "https://localhost:8080/"
        },
        "id": "X60pNTCWeuTa",
        "outputId": "85c32474-c174-48af-805f-08601675dba4"
      },
      "execution_count": 8,
      "outputs": [
        {
          "output_type": "stream",
          "name": "stdout",
          "text": [
            "Вероятность выживания пассажира в заданной категории: 0.503\n"
          ]
        }
      ]
    },
    {
      "cell_type": "code",
      "source": [
        "# Построение гистограммы выживших и погибших по возрасту\n",
        "plt.hist(data_cleaned[data_cleaned['survived'] == 1]['age'], alpha=0.5, label='Выжившие')\n",
        "plt.hist(data_cleaned[data_cleaned['survived'] == 0]['age'], alpha=0.5, label='Погибшие')\n",
        "plt.xlabel('Возраст')\n",
        "plt.ylabel('Частота')\n",
        "plt.title('Распределение выживших и погибших по возрасту')\n",
        "plt.legend()\n",
        "plt.show()"
      ],
      "metadata": {
        "colab": {
          "base_uri": "https://localhost:8080/",
          "height": 472
        },
        "id": "r3fub6bce2Ry",
        "outputId": "52256080-c079-4d71-86dd-b0e91ef9780a"
      },
      "execution_count": 9,
      "outputs": [
        {
          "output_type": "display_data",
          "data": {
            "text/plain": [
              "<Figure size 640x480 with 1 Axes>"
            ],
            "image/png": "[encoded data removed]"
          },
          "metadata": {}
        }
      ]
    },
    {
      "cell_type": "code",
      "source": [
        "# Удаление строк с пропущенными значениями\n",
        "data_numeric = data_cleaned.select_dtypes(include='number').copy()\n",
        "data_numeric.dropna(inplace=True)\n",
        "\n",
        "# Замена значений 0 и 1 в столбце 'survived' на False и True соответственно\n",
        "data_numeric['survived'] = data_numeric['survived'].replace({0: False, 1: True})\n",
        "\n",
        "# Преобразование типа столбца 'survived' в категориальный\n",
        "data_numeric['survived'] = data_numeric['survived'].astype('category')\n",
        "\n",
        "# Разделение данных на обучающую и тестовую выборки\n",
        "from sklearn.model_selection import train_test_split\n",
        "\n",
        "X = data_numeric.drop(columns=['survived'])\n",
        "y = data_numeric['survived']\n",
        "\n",
        "X_train, X_test, y_train, y_test = train_test_split(X, y, test_size=0.2, random_state=21, stratify=y)\n",
        "\n",
        "# Обучение модели логистической регрессии на обучающем наборе данных\n",
        "from sklearn.linear_model import LogisticRegression\n",
        "from sklearn.metrics import f1_score\n",
        "\n",
        "model = LogisticRegression()\n",
        "model.fit(X_train, y_train)\n",
        "\n",
        "# Оценка модели на тестовом наборе данных\n",
        "y_pred = model.predict(X_test)\n",
        "f1 = f1_score(y_test, y_pred)\n",
        "\n",
        "# Выводим ответ\n",
        "print(\"F1 score на тестовом наборе данных:\", f1)\n"
      ],
      "metadata": {
        "colab": {
          "base_uri": "https://localhost:8080/"
        },
        "id": "zfzCogyae9ky",
        "outputId": "1c18a2f6-6db7-412f-fc9d-715a4f88dc88"
      },
      "execution_count": 11,
      "outputs": [
        {
          "output_type": "stream",
          "name": "stdout",
          "text": [
            "F1 score на тестовом наборе данных: 0.5490196078431372\n"
          ]
        }
      ]
    },
    {
      "cell_type": "code",
      "source": [
        "# Выбор только числовых признаков из исходного набора данных\n",
        "data_numeric = data_cleaned.select_dtypes(include='number').copy()\n",
        "\n",
        "# Заполнение пропущенных значений средним значением столбца\n",
        "data_numeric.fillna(data_numeric.mean(), inplace=True)\n",
        "\n",
        "# Разделение данных на обучающую и тестовую выборки\n",
        "X = data_numeric.drop(columns=['survived'])\n",
        "y = data_cleaned['survived']\n",
        "\n",
        "X_train, X_test, y_train, y_test = train_test_split(X, y, test_size=0.2, random_state=21, stratify=y)\n",
        "\n",
        "# Обучение модели логистической регрессии на обучающем наборе данных\n",
        "model = LogisticRegression()\n",
        "model.fit(X_train, y_train)\n",
        "\n",
        "# Оценка модели на тестовом наборе данных\n",
        "y_pred = model.predict(X_test)\n",
        "f1_mean_fill = f1_score(y_test, y_pred)\n",
        "\n",
        "# Выводим ответ\n",
        "print(\"F1 score на тестовом наборе данных после заполнения пропущенных значений средним:\", round(f1_mean_fill, 3))"
      ],
      "metadata": {
        "colab": {
          "base_uri": "https://localhost:8080/"
        },
        "id": "ifP7m3sEg51-",
        "outputId": "16dabe7a-3d20-4713-f992-4263af29fe69"
      },
      "execution_count": 12,
      "outputs": [
        {
          "output_type": "stream",
          "name": "stdout",
          "text": [
            "F1 score на тестовом наборе данных после заполнения пропущенных значений средним: 0.508\n"
          ]
        }
      ]
    },
    {
      "cell_type": "markdown",
      "source": [],
      "metadata": {
        "id": "UflU82wVomoI"
      }
    },
    {
      "cell_type": "code",
      "source": [
        "# # Выбор числовых признаков и столбца \"name\" из исходного набора данных\n",
        "# data_with_honorific = data_cleaned.select_dtypes(include='number').copy()\n",
        "# data_with_honorific['name'] = data_cleaned['name']\n",
        "\n",
        "# # Извлечение обращений из столбца \"name\" с помощью регулярного выражения\n",
        "# import re\n",
        "\n",
        "# def extract_honorific(name):\n",
        "#     match = re.search(r',\\s([^\\.]+)\\.', name)\n",
        "#     if match:\n",
        "#         return match.group(1)\n",
        "#     else:\n",
        "#         return None\n",
        "\n",
        "# data_with_honorific['honorific'] = data_with_honorific['name'].apply(extract_honorific)\n",
        "\n",
        "# # Вычисление количества уникальных обращений\n",
        "# num_unique_honorifics = data_with_honorific['honorific'].nunique()\n",
        "\n",
        "# # Выводим ответ\n",
        "# print(\"Количество уникальных обращений:\", num_unique_honorifics)\n"
      ],
      "metadata": {
        "colab": {
          "base_uri": "https://localhost:8080/"
        },
        "id": "5pPEEEFahJ_p",
        "outputId": "4f60b451-5ce7-4f6d-ca4d-8134639a7d5b"
      },
      "execution_count": 12,
      "outputs": [
        {
          "output_type": "stream",
          "name": "stdout",
          "text": [
            "Количество уникальных обращений: 14\n"
          ]
        }
      ]
    },
    {
      "cell_type": "code",
      "source": [
        "# Создание столбца \"honorific\" на основе обращений в именах\n",
        "data_with_honorific = data_cleaned.copy()\n",
        "data_with_honorific['honorific'] = data_with_honorific['name'].str.extract(r',\\s*([^\\.]+)\\.', expand=False)\n",
        "\n",
        "# Вычисление количества уникальных обращений\n",
        "num_unique_honorifics = data_with_honorific['honorific'].nunique()\n",
        "\n",
        "# Выводим ответ\n",
        "print(\"Количество уникальных обращений:\", num_unique_honorifics)"
      ],
      "metadata": {
        "colab": {
          "base_uri": "https://localhost:8080/"
        },
        "id": "jWobaNe2hYPp",
        "outputId": "fc55f031-b565-4b8d-ebc3-989fad611f15"
      },
      "execution_count": 13,
      "outputs": [
        {
          "output_type": "stream",
          "name": "stdout",
          "text": [
            "Количество уникальных обращений: 14\n"
          ]
        }
      ]
    },
    {
      "cell_type": "code",
      "source": [
        "# Создание бинарного столбца, где 1 - обращение \"Master\", 0 - другие обращения\n",
        "data_with_honorific['is_master'] = (data_with_honorific['honorific'] == 'Master').astype(int)\n",
        "\n",
        "# Вычисление доли строк со значением \"Master\" относительно общего числа мужчин\n",
        "proportion_master = data_with_honorific[data_with_honorific['sex'] == 'male']['is_master'].mean()\n",
        "\n",
        "# Выводим ответ\n",
        "print(\"Доля строк со значением 'Master' относительно общего числа мужчин:\", round(proportion_master, 3))\n"
      ],
      "metadata": {
        "colab": {
          "base_uri": "https://localhost:8080/"
        },
        "id": "iXZ9_G-Hhe3R",
        "outputId": "7f21cd78-22d9-4918-ae0f-45931c10accd"
      },
      "execution_count": 14,
      "outputs": [
        {
          "output_type": "stream",
          "name": "stdout",
          "text": [
            "Доля строк со значением 'Master' относительно общего числа мужчин: 0.072\n"
          ]
        }
      ]
    },
    {
      "cell_type": "code",
      "source": [
        "# Вычисление среднего возраста категории Mr.\n",
        "average_age_mrs = data_with_honorific[data_with_honorific['honorific'] == 'Mr']['age'].mean()\n",
        "\n",
        "# Выводим ответ\n",
        "print(\"Средний возраст категории Mr.:\", round(average_age_mrs, 3))"
      ],
      "metadata": {
        "colab": {
          "base_uri": "https://localhost:8080/"
        },
        "id": "TBb1fEZoicyJ",
        "outputId": "4c6a7b8a-ee25-43bc-a218-daa1f0e2d86c"
      },
      "execution_count": 15,
      "outputs": [
        {
          "output_type": "stream",
          "name": "stdout",
          "text": [
            "Средний возраст категории Mr.: 32.352\n"
          ]
        }
      ]
    },
    {
      "cell_type": "code",
      "source": [
        "# Заполнение пропущенных значений в столбце \"age\" средним значением по категории обращения\n",
        "data_with_honorific['age'] = data_with_honorific.groupby('honorific')['age'].transform(lambda x: x.fillna(x.mean()))\n",
        "\n",
        "# Удаление нечисловых признаков\n",
        "data_numeric_honorific = data_with_honorific.select_dtypes(include='number')\n",
        "\n",
        "# Разделение данных на обучающую и тестовую выборки\n",
        "X = data_numeric_honorific.drop(columns=['survived'])\n",
        "y = data_with_honorific['survived']\n",
        "\n",
        "X_train, X_test, y_train, y_test = train_test_split(X, y, test_size=0.2, random_state=13, stratify=y)\n",
        "\n",
        "# Обучение модели логистической регрессии на обучающем наборе данных\n",
        "model = LogisticRegression()\n",
        "model.fit(X_train, y_train)\n",
        "\n",
        "# Оценка модели на тестовом наборе данных\n",
        "y_pred = model.predict(X_test)\n",
        "f1_score_honorific = f1_score(y_test, y_pred)\n",
        "\n",
        "# Выводим ответ\n",
        "print(\"F1 score модели на тестовом наборе данных после заполнения пропущенных значений средним по категории обращения:\", round(f1_score_honorific, 3))"
      ],
      "metadata": {
        "colab": {
          "base_uri": "https://localhost:8080/"
        },
        "id": "7JPvrpx-inzJ",
        "outputId": "82f42ad0-529b-40ef-ad4f-46f616357b64"
      },
      "execution_count": 16,
      "outputs": [
        {
          "output_type": "stream",
          "name": "stdout",
          "text": [
            "F1 score модели на тестовом наборе данных после заполнения пропущенных значений средним по категории обращения: 0.472\n"
          ]
        }
      ]
    },
    {
      "cell_type": "code",
      "source": [
        "# Заполнение пропущенных значений в столбце \"age\" средним значением по категории обращения\n",
        "data_with_honorific['age'] = data_with_honorific.groupby('honorific')['age'].transform(lambda x: x.fillna(x.mean()))\n",
        "\n",
        "# Удаление признаков \"name\" и \"honorific\"\n",
        "data_encoded = data_with_honorific.drop(columns=['name', 'honorific'])\n",
        "\n",
        "# Применение One-Hot Encoding к категориальным признакам\n",
        "data_encoded = pd.get_dummies(data_encoded, columns=['sex', 'embarked'])\n",
        "\n",
        "# Разделение данных на обучающую и тестовую выборки\n",
        "X = data_encoded.drop(columns=['survived'])\n",
        "y = data_encoded['survived']\n",
        "\n",
        "X_train, X_test, y_train, y_test = train_test_split(X, y, test_size=0.2, random_state=13, stratify=y)\n",
        "\n",
        "# Обучение модели логистической регрессии на обучающем наборе данных\n",
        "model = LogisticRegression()\n",
        "model.fit(X_train, y_train)\n",
        "\n",
        "# Оценка модели на тестовом наборе данных\n",
        "y_pred = model.predict(X_test)\n",
        "f1_score_categorical = f1_score(y_test, y_pred)\n",
        "\n",
        "# Выводим ответ\n",
        "print(\"F1 score модели на тестовом наборе данных после кодирования категориальных признаков:\", round(f1_score_categorical, 3))"
      ],
      "metadata": {
        "colab": {
          "base_uri": "https://localhost:8080/"
        },
        "id": "hv8-wy8Di2uZ",
        "outputId": "a2d44622-52fa-4a4c-d22b-eb1652dd4324"
      },
      "execution_count": 17,
      "outputs": [
        {
          "output_type": "stream",
          "name": "stdout",
          "text": [
            "F1 score модели на тестовом наборе данных после кодирования категориальных признаков: 0.747\n"
          ]
        },
        {
          "output_type": "stream",
          "name": "stderr",
          "text": [
            "/usr/local/lib/python3.10/dist-packages/sklearn/linear_model/_logistic.py:458: ConvergenceWarning: lbfgs failed to converge (status=1):\n",
            "STOP: TOTAL NO. of ITERATIONS REACHED LIMIT.\n",
            "\n",
            "Increase the number of iterations (max_iter) or scale the data as shown in:\n",
            "    https://scikit-learn.org/stable/modules/preprocessing.html\n",
            "Please also refer to the documentation for alternative solver options:\n",
            "    https://scikit-learn.org/stable/modules/linear_model.html#logistic-regression\n",
            "  n_iter_i = _check_optimize_result(\n"
          ]
        }
      ]
    },
    {
      "cell_type": "code",
      "source": [],
      "metadata": {
        "id": "cm9OjhDwjP45"
      },
      "execution_count": null,
      "outputs": []
    }
  ]
}